{
 "cells": [
  {
   "cell_type": "code",
   "execution_count": 1,
   "metadata": {
    "id": "2v2g9f0P6FWF"
   },
   "outputs": [],
   "source": [
    "import pandas as pd\n",
    "import math\n",
    "import numpy as np\n",
    "from datetime import datetime as dt"
   ]
  },
  {
   "cell_type": "code",
   "execution_count": 2,
   "metadata": {
    "id": "wutG06tF6SEa"
   },
   "outputs": [],
   "source": [
    "import pandas as pd\n",
    "import math\n",
    "import numpy as np\n",
    "from datetime import datetime as dt\n",
    "df_cities = pd.read_csv(\"cities.csv\")\n",
    "df_stations = pd.read_csv(\"stations.csv\")\n",
    "df_tickets=pd.read_csv(\"ticket_data.csv\")\n",
    "df_providers=pd.read_csv(\"providers.csv\")\n",
    "\n",
    "#we are going to use this dataframe to store data and visualize it after\n",
    "df_data = pd.DataFrame(columns = ['price_in_cents','duration','transport','distance'])"
   ]
  },
  {
   "cell_type": "code",
   "execution_count": 3,
   "metadata": {
    "colab": {
     "base_uri": "https://localhost:8080/"
    },
    "id": "vPO3Aczl2MU4",
    "outputId": "f82fc6d6-00c8-47ad-fcc3-6beafbcc1be8"
   },
   "outputs": [
    {
     "data": {
      "text/plain": [
       "(8040, 227, 11035, 74168)"
      ]
     },
     "execution_count": 3,
     "metadata": {},
     "output_type": "execute_result"
    }
   ],
   "source": [
    "len(df_cities),len(df_providers),len(df_stations),len(df_tickets)"
   ]
  },
  {
   "cell_type": "code",
   "execution_count": 4,
   "metadata": {
    "id": "kli5llq-6V2H"
   },
   "outputs": [],
   "source": [
    "# this function helps us get the distance between 2 coordinates points on earth map.\n",
    "\n",
    "def dist_cities(la1,lon1,la2,lon2):\n",
    "    R = 6373.0 #radius of the Earth\n",
    "\n",
    "    lat1 = math.radians(la1)\n",
    "    lon1 = math.radians(lon1)\n",
    "    lat2 = math.radians(la2)\n",
    "    lon2 = math.radians(lon2)\n",
    "\n",
    "    dlon = lon2 - lon1\n",
    "    dlat = lat2 - lat1\n",
    "\n",
    "    a = math.sin(dlat / 2)**2 + math.cos(lat1) * math.cos(lat2) * math.sin(dlon / 2)**2\n",
    "    c = 2 * math.atan2(math.sqrt(a), math.sqrt(1 - a))\n",
    "    distance = R * c\n",
    "\n",
    "    return distance"
   ]
  },
  {
   "cell_type": "code",
   "execution_count": 5,
   "metadata": {
    "colab": {
     "base_uri": "https://localhost:8080/"
    },
    "id": "ENTC8tni24YE",
    "outputId": "3083e2bf-832a-486e-83b5-374038ab54c9"
   },
   "outputs": [
    {
     "data": {
      "text/plain": [
       "Index(['id', 'local_name', 'unique_name', 'latitude', 'longitude',\n",
       "       'population'],\n",
       "      dtype='object')"
      ]
     },
     "execution_count": 5,
     "metadata": {},
     "output_type": "execute_result"
    }
   ],
   "source": [
    "df_cities.columns"
   ]
  },
  {
   "cell_type": "code",
   "execution_count": 6,
   "metadata": {
    "colab": {
     "base_uri": "https://localhost:8080/"
    },
    "id": "s7YShuQd24ph",
    "outputId": "83f259b2-ff0a-4e1b-faff-60da8ab12faf"
   },
   "outputs": [
    {
     "data": {
      "text/plain": [
       "Index(['id', 'company', 'o_station', 'd_station', 'departure_ts', 'arrival_ts',\n",
       "       'price_in_cents', 'search_ts', 'middle_stations', 'other_companies',\n",
       "       'o_city', 'd_city'],\n",
       "      dtype='object')"
      ]
     },
     "execution_count": 6,
     "metadata": {},
     "output_type": "execute_result"
    }
   ],
   "source": [
    "df_tickets.columns"
   ]
  },
  {
   "cell_type": "markdown",
   "metadata": {
    "id": "8dQnXM1S3o4o"
   },
   "source": [
    "# PRIX MOYEN"
   ]
  },
  {
   "cell_type": "code",
   "execution_count": 8,
   "metadata": {
    "colab": {
     "base_uri": "https://localhost:8080/"
    },
    "id": "m-O98Ms3246g",
    "outputId": "6e926227-a7c8-4656-e788-0d407868885a"
   },
   "outputs": [
    {
     "name": "stdout",
     "output_type": "stream",
     "text": [
      "le prix moyen en centime : 4382.711061374178\n"
     ]
    }
   ],
   "source": [
    "x=0\n",
    "i=0\n",
    "for i in range(len(df_tickets)):\n",
    "    x=x+df_tickets['price_in_cents'][i]\n",
    "print(\"le prix moyen en centime :\" ,x/len(df_tickets))\n",
    "\n",
    "#ou on peut utiliser directement la fonction \"mean\" de numpy"
   ]
  },
  {
   "cell_type": "markdown",
   "metadata": {
    "id": "i2wLBRzd25P5"
   },
   "source": [
    "# PRIX MIN"
   ]
  },
  {
   "cell_type": "code",
   "execution_count": 10,
   "metadata": {
    "colab": {
     "base_uri": "https://localhost:8080/"
    },
    "id": "oMLiDYqr329R",
    "outputId": "5c09363d-9d95-4093-f147-aa388019ed2d"
   },
   "outputs": [
    {
     "data": {
      "text/plain": [
       "300"
      ]
     },
     "execution_count": 10,
     "metadata": {},
     "output_type": "execute_result"
    }
   ],
   "source": [
    "min(df_tickets['price_in_cents'])"
   ]
  },
  {
   "cell_type": "markdown",
   "metadata": {
    "id": "EqHCFn8h33O6"
   },
   "source": [
    "# PRIX MAX\n"
   ]
  },
  {
   "cell_type": "code",
   "execution_count": 12,
   "metadata": {
    "colab": {
     "base_uri": "https://localhost:8080/"
    },
    "id": "cc5HlPmG33d5",
    "outputId": "7acdf064-a7e3-410d-e230-ecf31531672c"
   },
   "outputs": [
    {
     "data": {
      "text/plain": [
       "38550"
      ]
     },
     "execution_count": 12,
     "metadata": {},
     "output_type": "execute_result"
    }
   ],
   "source": [
    "max(df_tickets['price_in_cents'])"
   ]
  },
  {
   "cell_type": "code",
   "execution_count": 13,
   "metadata": {
    "id": "YyLK5Jx_33tl"
   },
   "outputs": [],
   "source": [
    "i=0\n",
    "list_time=[]\n",
    "for i in range(len(df_tickets)):\n",
    "    list_time.append(dt.strptime(df_tickets['arrival_ts'][i],\"%Y-%m-%d %H:%M:%S+%f\")-dt.strptime(df_tickets['departure_ts'][i],\"%Y-%m-%d %H:%M:%S+%f\"))"
   ]
  },
  {
   "cell_type": "code",
   "execution_count": 14,
   "metadata": {
    "colab": {
     "base_uri": "https://localhost:8080/"
    },
    "id": "Uok5gOhZ339o",
    "outputId": "9f94168e-6724-4ed3-aa73-a4224b3ef12d"
   },
   "outputs": [
    {
     "data": {
      "text/plain": [
       "datetime.timedelta(seconds=1200)"
      ]
     },
     "execution_count": 14,
     "metadata": {},
     "output_type": "execute_result"
    }
   ],
   "source": [
    "min(list_time)"
   ]
  },
  {
   "cell_type": "code",
   "execution_count": 15,
   "metadata": {
    "colab": {
     "base_uri": "https://localhost:8080/"
    },
    "id": "LY8W6-4s34Nb",
    "outputId": "47c12381-eb26-48a9-d440-e1eb2c1d7569"
   },
   "outputs": [
    {
     "data": {
      "text/plain": [
       "datetime.timedelta(days=20, seconds=46260)"
      ]
     },
     "execution_count": 15,
     "metadata": {},
     "output_type": "execute_result"
    }
   ],
   "source": [
    "max(list_time)"
   ]
  },
  {
   "cell_type": "markdown",
   "metadata": {},
   "source": [
    "# TEMPS MAX Pour touts les voyages figurant sur le fichier \"tickets_data\""
   ]
  },
  {
   "cell_type": "code",
   "execution_count": 16,
   "metadata": {
    "colab": {
     "base_uri": "https://localhost:8080/"
    },
    "id": "1OIoOPnG34de",
    "outputId": "44a2cf7d-505d-45ab-edb6-6edde439aeb3"
   },
   "outputs": [
    {
     "name": "stdout",
     "output_type": "stream",
     "text": [
      "durée maximum: 20 days, 12:51:00\n"
     ]
    }
   ],
   "source": [
    "\n",
    "import datetime\n",
    "print(\"durée maximum:\", str(datetime.timedelta(seconds=max(list_time).total_seconds())))"
   ]
  },
  {
   "cell_type": "markdown",
   "metadata": {},
   "source": [
    "# TEMPS MIN Pour touts les voyages figurant sur le fichier \"tickets_data\""
   ]
  },
  {
   "cell_type": "code",
   "execution_count": 17,
   "metadata": {
    "colab": {
     "base_uri": "https://localhost:8080/"
    },
    "id": "32m-dfWC47zB",
    "outputId": "dd0c0a60-1767-4aa9-e485-5d633632e8fe"
   },
   "outputs": [
    {
     "name": "stdout",
     "output_type": "stream",
     "text": [
      "durée minimum: 0:20:00\n"
     ]
    }
   ],
   "source": [
    "import datetime\n",
    "print(\"durée minimum:\", str(datetime.timedelta(seconds=min(list_time).total_seconds())))"
   ]
  },
  {
   "cell_type": "markdown",
   "metadata": {},
   "source": [
    "# TEMPS Moyen Pour touts les voyages figurant sur le fichier \"tickets_data\""
   ]
  },
  {
   "cell_type": "code",
   "execution_count": 18,
   "metadata": {
    "colab": {
     "base_uri": "https://localhost:8080/"
    },
    "id": "xFd706B948VZ",
    "outputId": "f364b51d-0480-4113-b23b-4ac2acd85917"
   },
   "outputs": [
    {
     "name": "stdout",
     "output_type": "stream",
     "text": [
      "durée moyenne: 7:04:37.247600\n"
     ]
    }
   ],
   "source": [
    "from numpy.core.fromnumeric import mean\n",
    "import datetime\n",
    "print(\"durée moyenne:\", str(datetime.timedelta(seconds=mean(list_time).total_seconds())))"
   ]
  },
  {
   "cell_type": "code",
   "execution_count": 19,
   "metadata": {
    "colab": {
     "base_uri": "https://localhost:8080/"
    },
    "id": "T5PiEcO948rB",
    "outputId": "ccacdf27-33b9-4b26-8db2-bcfd6733b227"
   },
   "outputs": [
    {
     "data": {
      "text/plain": [
       "Index(['id', 'company', 'o_station', 'd_station', 'departure_ts', 'arrival_ts',\n",
       "       'price_in_cents', 'search_ts', 'middle_stations', 'other_companies',\n",
       "       'o_city', 'd_city'],\n",
       "      dtype='object')"
      ]
     },
     "execution_count": 19,
     "metadata": {},
     "output_type": "execute_result"
    }
   ],
   "source": [
    "df_tickets.columns"
   ]
  },
  {
   "cell_type": "markdown",
   "metadata": {},
   "source": [
    "# Statistiques Des prix par trajets (trajet unique de station à une station, groupby)"
   ]
  },
  {
   "cell_type": "code",
   "execution_count": 20,
   "metadata": {
    "id": "tjSnx95X5T7u"
   },
   "outputs": [],
   "source": [
    "df=df_tickets.groupby(['o_station','d_station'])"
   ]
  },
  {
   "cell_type": "code",
   "execution_count": 21,
   "metadata": {
    "colab": {
     "base_uri": "https://localhost:8080/"
    },
    "id": "IljgEYi-5Uf8",
    "outputId": "aa7e0921-9045-429a-c7da-911a2febec1a"
   },
   "outputs": [
    {
     "data": {
      "text/plain": [
       "((3.0, 39.0), 45116    1200\n",
       " 45117    1590\n",
       " 45137    1600\n",
       " 45149    3080\n",
       " 45159    2480\n",
       " 53641    3480\n",
       " Name: price_in_cents, dtype: int64)"
      ]
     },
     "execution_count": 21,
     "metadata": {},
     "output_type": "execute_result"
    }
   ],
   "source": [
    "#max(df['price_in_cents'])\n",
    "min(df['price_in_cents'])"
   ]
  },
  {
   "cell_type": "code",
   "execution_count": 22,
   "metadata": {
    "colab": {
     "base_uri": "https://localhost:8080/"
    },
    "id": "z-U1do6F5UxF",
    "outputId": "4b7527f9-e336-48ec-d517-a554fe6d6448"
   },
   "outputs": [
    {
     "data": {
      "text/plain": [
       "((11017.0, 10349.0), 652    5300\n",
       " Name: price_in_cents, dtype: int64)"
      ]
     },
     "execution_count": 22,
     "metadata": {},
     "output_type": "execute_result"
    }
   ],
   "source": [
    "max(df['price_in_cents'])"
   ]
  },
  {
   "cell_type": "code",
   "execution_count": 25,
   "metadata": {
    "id": "D7Nq1pKD488h"
   },
   "outputs": [],
   "source": [
    "maximums = df.max('price_in_cents')"
   ]
  },
  {
   "cell_type": "markdown",
   "metadata": {},
   "source": [
    "# Prix Max trajet"
   ]
  },
  {
   "cell_type": "code",
   "execution_count": 26,
   "metadata": {
    "colab": {
     "base_uri": "https://localhost:8080/",
     "height": 574
    },
    "id": "mq0WZKga34s5",
    "outputId": "0f507977-5186-4162-a4e8-3d21db63b630"
   },
   "outputs": [
    {
     "data": {
      "text/html": [
       "\n",
       "  <div id=\"df-5fb152b8-abd5-4d28-ad52-b4326c765d14\">\n",
       "    <div class=\"colab-df-container\">\n",
       "      <div>\n",
       "<style scoped>\n",
       "    .dataframe tbody tr th:only-of-type {\n",
       "        vertical-align: middle;\n",
       "    }\n",
       "\n",
       "    .dataframe tbody tr th {\n",
       "        vertical-align: top;\n",
       "    }\n",
       "\n",
       "    .dataframe thead th {\n",
       "        text-align: right;\n",
       "    }\n",
       "</style>\n",
       "<table border=\"1\" class=\"dataframe\">\n",
       "  <thead>\n",
       "    <tr style=\"text-align: right;\">\n",
       "      <th></th>\n",
       "      <th></th>\n",
       "      <th>id</th>\n",
       "      <th>company</th>\n",
       "      <th>price_in_cents</th>\n",
       "      <th>o_city</th>\n",
       "      <th>d_city</th>\n",
       "    </tr>\n",
       "    <tr>\n",
       "      <th>o_station</th>\n",
       "      <th>d_station</th>\n",
       "      <th></th>\n",
       "      <th></th>\n",
       "      <th></th>\n",
       "      <th></th>\n",
       "      <th></th>\n",
       "    </tr>\n",
       "  </thead>\n",
       "  <tbody>\n",
       "    <tr>\n",
       "      <th rowspan=\"5\" valign=\"top\">3.0</th>\n",
       "      <th>39.0</th>\n",
       "      <td>6848666</td>\n",
       "      <td>13</td>\n",
       "      <td>3480</td>\n",
       "      <td>628</td>\n",
       "      <td>37</td>\n",
       "    </tr>\n",
       "    <tr>\n",
       "      <th>61.0</th>\n",
       "      <td>6849450</td>\n",
       "      <td>13</td>\n",
       "      <td>4780</td>\n",
       "      <td>628</td>\n",
       "      <td>173</td>\n",
       "    </tr>\n",
       "    <tr>\n",
       "      <th>123.0</th>\n",
       "      <td>6862926</td>\n",
       "      <td>13</td>\n",
       "      <td>3600</td>\n",
       "      <td>628</td>\n",
       "      <td>144</td>\n",
       "    </tr>\n",
       "    <tr>\n",
       "      <th>132.0</th>\n",
       "      <td>6854174</td>\n",
       "      <td>13</td>\n",
       "      <td>2280</td>\n",
       "      <td>628</td>\n",
       "      <td>158</td>\n",
       "    </tr>\n",
       "    <tr>\n",
       "      <th>189.0</th>\n",
       "      <td>6854672</td>\n",
       "      <td>13</td>\n",
       "      <td>3680</td>\n",
       "      <td>628</td>\n",
       "      <td>5118</td>\n",
       "    </tr>\n",
       "    <tr>\n",
       "      <th>...</th>\n",
       "      <th>...</th>\n",
       "      <td>...</td>\n",
       "      <td>...</td>\n",
       "      <td>...</td>\n",
       "      <td>...</td>\n",
       "      <td>...</td>\n",
       "    </tr>\n",
       "    <tr>\n",
       "      <th>11012.0</th>\n",
       "      <th>11010.0</th>\n",
       "      <td>6844505</td>\n",
       "      <td>8387</td>\n",
       "      <td>9600</td>\n",
       "      <td>628</td>\n",
       "      <td>524</td>\n",
       "    </tr>\n",
       "    <tr>\n",
       "      <th>11013.0</th>\n",
       "      <th>11005.0</th>\n",
       "      <td>6835755</td>\n",
       "      <td>8387</td>\n",
       "      <td>5000</td>\n",
       "      <td>694</td>\n",
       "      <td>184</td>\n",
       "    </tr>\n",
       "    <tr>\n",
       "      <th>11014.0</th>\n",
       "      <th>11005.0</th>\n",
       "      <td>6835756</td>\n",
       "      <td>8387</td>\n",
       "      <td>5000</td>\n",
       "      <td>694</td>\n",
       "      <td>184</td>\n",
       "    </tr>\n",
       "    <tr>\n",
       "      <th>11015.0</th>\n",
       "      <th>11005.0</th>\n",
       "      <td>6835757</td>\n",
       "      <td>8387</td>\n",
       "      <td>5000</td>\n",
       "      <td>694</td>\n",
       "      <td>184</td>\n",
       "    </tr>\n",
       "    <tr>\n",
       "      <th>11017.0</th>\n",
       "      <th>10349.0</th>\n",
       "      <td>6795677</td>\n",
       "      <td>8387</td>\n",
       "      <td>5300</td>\n",
       "      <td>12166</td>\n",
       "      <td>857</td>\n",
       "    </tr>\n",
       "  </tbody>\n",
       "</table>\n",
       "<p>2666 rows × 5 columns</p>\n",
       "</div>\n",
       "      <button class=\"colab-df-convert\" onclick=\"convertToInteractive('df-5fb152b8-abd5-4d28-ad52-b4326c765d14')\"\n",
       "              title=\"Convert this dataframe to an interactive table.\"\n",
       "              style=\"display:none;\">\n",
       "        \n",
       "  <svg xmlns=\"http://www.w3.org/2000/svg\" height=\"24px\"viewBox=\"0 0 24 24\"\n",
       "       width=\"24px\">\n",
       "    <path d=\"M0 0h24v24H0V0z\" fill=\"none\"/>\n",
       "    <path d=\"M18.56 5.44l.94 2.06.94-2.06 2.06-.94-2.06-.94-.94-2.06-.94 2.06-2.06.94zm-11 1L8.5 8.5l.94-2.06 2.06-.94-2.06-.94L8.5 2.5l-.94 2.06-2.06.94zm10 10l.94 2.06.94-2.06 2.06-.94-2.06-.94-.94-2.06-.94 2.06-2.06.94z\"/><path d=\"M17.41 7.96l-1.37-1.37c-.4-.4-.92-.59-1.43-.59-.52 0-1.04.2-1.43.59L10.3 9.45l-7.72 7.72c-.78.78-.78 2.05 0 2.83L4 21.41c.39.39.9.59 1.41.59.51 0 1.02-.2 1.41-.59l7.78-7.78 2.81-2.81c.8-.78.8-2.07 0-2.86zM5.41 20L4 18.59l7.72-7.72 1.47 1.35L5.41 20z\"/>\n",
       "  </svg>\n",
       "      </button>\n",
       "      \n",
       "  <style>\n",
       "    .colab-df-container {\n",
       "      display:flex;\n",
       "      flex-wrap:wrap;\n",
       "      gap: 12px;\n",
       "    }\n",
       "\n",
       "    .colab-df-convert {\n",
       "      background-color: #E8F0FE;\n",
       "      border: none;\n",
       "      border-radius: 50%;\n",
       "      cursor: pointer;\n",
       "      display: none;\n",
       "      fill: #1967D2;\n",
       "      height: 32px;\n",
       "      padding: 0 0 0 0;\n",
       "      width: 32px;\n",
       "    }\n",
       "\n",
       "    .colab-df-convert:hover {\n",
       "      background-color: #E2EBFA;\n",
       "      box-shadow: 0px 1px 2px rgba(60, 64, 67, 0.3), 0px 1px 3px 1px rgba(60, 64, 67, 0.15);\n",
       "      fill: #174EA6;\n",
       "    }\n",
       "\n",
       "    [theme=dark] .colab-df-convert {\n",
       "      background-color: #3B4455;\n",
       "      fill: #D2E3FC;\n",
       "    }\n",
       "\n",
       "    [theme=dark] .colab-df-convert:hover {\n",
       "      background-color: #434B5C;\n",
       "      box-shadow: 0px 1px 3px 1px rgba(0, 0, 0, 0.15);\n",
       "      filter: drop-shadow(0px 1px 2px rgba(0, 0, 0, 0.3));\n",
       "      fill: #FFFFFF;\n",
       "    }\n",
       "  </style>\n",
       "\n",
       "      <script>\n",
       "        const buttonEl =\n",
       "          document.querySelector('#df-5fb152b8-abd5-4d28-ad52-b4326c765d14 button.colab-df-convert');\n",
       "        buttonEl.style.display =\n",
       "          google.colab.kernel.accessAllowed ? 'block' : 'none';\n",
       "\n",
       "        async function convertToInteractive(key) {\n",
       "          const element = document.querySelector('#df-5fb152b8-abd5-4d28-ad52-b4326c765d14');\n",
       "          const dataTable =\n",
       "            await google.colab.kernel.invokeFunction('convertToInteractive',\n",
       "                                                     [key], {});\n",
       "          if (!dataTable) return;\n",
       "\n",
       "          const docLinkHtml = 'Like what you see? Visit the ' +\n",
       "            '<a target=\"_blank\" href=https://colab.research.google.com/notebooks/data_table.ipynb>data table notebook</a>'\n",
       "            + ' to learn more about interactive tables.';\n",
       "          element.innerHTML = '';\n",
       "          dataTable['output_type'] = 'display_data';\n",
       "          await google.colab.output.renderOutput(dataTable, element);\n",
       "          const docLink = document.createElement('div');\n",
       "          docLink.innerHTML = docLinkHtml;\n",
       "          element.appendChild(docLink);\n",
       "        }\n",
       "      </script>\n",
       "    </div>\n",
       "  </div>\n",
       "  "
      ],
      "text/plain": [
       "                          id  company  price_in_cents  o_city  d_city\n",
       "o_station d_station                                                  \n",
       "3.0       39.0       6848666       13            3480     628      37\n",
       "          61.0       6849450       13            4780     628     173\n",
       "          123.0      6862926       13            3600     628     144\n",
       "          132.0      6854174       13            2280     628     158\n",
       "          189.0      6854672       13            3680     628    5118\n",
       "...                      ...      ...             ...     ...     ...\n",
       "11012.0   11010.0    6844505     8387            9600     628     524\n",
       "11013.0   11005.0    6835755     8387            5000     694     184\n",
       "11014.0   11005.0    6835756     8387            5000     694     184\n",
       "11015.0   11005.0    6835757     8387            5000     694     184\n",
       "11017.0   10349.0    6795677     8387            5300   12166     857\n",
       "\n",
       "[2666 rows x 5 columns]"
      ]
     },
     "execution_count": 26,
     "metadata": {},
     "output_type": "execute_result"
    }
   ],
   "source": [
    "maximums"
   ]
  },
  {
   "cell_type": "markdown",
   "metadata": {},
   "source": [
    "# Prix Min par trajet"
   ]
  },
  {
   "cell_type": "code",
   "execution_count": 27,
   "metadata": {
    "id": "V2t2u-yc9NQK"
   },
   "outputs": [],
   "source": [
    "minimums = df.min('price_in_cents')"
   ]
  },
  {
   "cell_type": "code",
   "execution_count": 30,
   "metadata": {
    "colab": {
     "base_uri": "https://localhost:8080/",
     "height": 500
    },
    "id": "nhPHhMZH9Ngx",
    "outputId": "410e227a-419d-46ee-f0f7-bfb55285cabf"
   },
   "outputs": [
    {
     "data": {
      "text/html": [
       "\n",
       "  <div id=\"df-52bc9afc-3f0f-4d49-af8e-447ea49e96fd\">\n",
       "    <div class=\"colab-df-container\">\n",
       "      <div>\n",
       "<style scoped>\n",
       "    .dataframe tbody tr th:only-of-type {\n",
       "        vertical-align: middle;\n",
       "    }\n",
       "\n",
       "    .dataframe tbody tr th {\n",
       "        vertical-align: top;\n",
       "    }\n",
       "\n",
       "    .dataframe thead th {\n",
       "        text-align: right;\n",
       "    }\n",
       "</style>\n",
       "<table border=\"1\" class=\"dataframe\">\n",
       "  <thead>\n",
       "    <tr style=\"text-align: right;\">\n",
       "      <th></th>\n",
       "      <th></th>\n",
       "      <th>id</th>\n",
       "      <th>company</th>\n",
       "      <th>price_in_cents</th>\n",
       "      <th>o_city</th>\n",
       "      <th>d_city</th>\n",
       "    </tr>\n",
       "    <tr>\n",
       "      <th>o_station</th>\n",
       "      <th>d_station</th>\n",
       "      <th></th>\n",
       "      <th></th>\n",
       "      <th></th>\n",
       "      <th></th>\n",
       "      <th></th>\n",
       "    </tr>\n",
       "  </thead>\n",
       "  <tbody>\n",
       "    <tr>\n",
       "      <th>10895.0</th>\n",
       "      <th>6794.0</th>\n",
       "      <td>6856827</td>\n",
       "      <td>8377</td>\n",
       "      <td>1400</td>\n",
       "      <td>885</td>\n",
       "      <td>628</td>\n",
       "    </tr>\n",
       "    <tr>\n",
       "      <th>11007.0</th>\n",
       "      <th>11013.0</th>\n",
       "      <td>6832380</td>\n",
       "      <td>8387</td>\n",
       "      <td>8500</td>\n",
       "      <td>272</td>\n",
       "      <td>694</td>\n",
       "    </tr>\n",
       "    <tr>\n",
       "      <th rowspan=\"2\" valign=\"top\">11011.0</th>\n",
       "      <th>11008.0</th>\n",
       "      <td>6819881</td>\n",
       "      <td>8387</td>\n",
       "      <td>6800</td>\n",
       "      <td>628</td>\n",
       "      <td>184</td>\n",
       "    </tr>\n",
       "    <tr>\n",
       "      <th>11010.0</th>\n",
       "      <td>6844368</td>\n",
       "      <td>8387</td>\n",
       "      <td>9600</td>\n",
       "      <td>628</td>\n",
       "      <td>524</td>\n",
       "    </tr>\n",
       "    <tr>\n",
       "      <th rowspan=\"2\" valign=\"top\">11012.0</th>\n",
       "      <th>11008.0</th>\n",
       "      <td>6819883</td>\n",
       "      <td>8387</td>\n",
       "      <td>6800</td>\n",
       "      <td>628</td>\n",
       "      <td>184</td>\n",
       "    </tr>\n",
       "    <tr>\n",
       "      <th>11010.0</th>\n",
       "      <td>6844369</td>\n",
       "      <td>8387</td>\n",
       "      <td>9600</td>\n",
       "      <td>628</td>\n",
       "      <td>524</td>\n",
       "    </tr>\n",
       "    <tr>\n",
       "      <th>11013.0</th>\n",
       "      <th>11005.0</th>\n",
       "      <td>6835755</td>\n",
       "      <td>8387</td>\n",
       "      <td>5000</td>\n",
       "      <td>694</td>\n",
       "      <td>184</td>\n",
       "    </tr>\n",
       "    <tr>\n",
       "      <th>11014.0</th>\n",
       "      <th>11005.0</th>\n",
       "      <td>6835756</td>\n",
       "      <td>8387</td>\n",
       "      <td>5000</td>\n",
       "      <td>694</td>\n",
       "      <td>184</td>\n",
       "    </tr>\n",
       "    <tr>\n",
       "      <th>11015.0</th>\n",
       "      <th>11005.0</th>\n",
       "      <td>6835757</td>\n",
       "      <td>8387</td>\n",
       "      <td>5000</td>\n",
       "      <td>694</td>\n",
       "      <td>184</td>\n",
       "    </tr>\n",
       "    <tr>\n",
       "      <th>11017.0</th>\n",
       "      <th>10349.0</th>\n",
       "      <td>6795677</td>\n",
       "      <td>8387</td>\n",
       "      <td>5300</td>\n",
       "      <td>12166</td>\n",
       "      <td>857</td>\n",
       "    </tr>\n",
       "  </tbody>\n",
       "</table>\n",
       "</div>\n",
       "      <button class=\"colab-df-convert\" onclick=\"convertToInteractive('df-52bc9afc-3f0f-4d49-af8e-447ea49e96fd')\"\n",
       "              title=\"Convert this dataframe to an interactive table.\"\n",
       "              style=\"display:none;\">\n",
       "        \n",
       "  <svg xmlns=\"http://www.w3.org/2000/svg\" height=\"24px\"viewBox=\"0 0 24 24\"\n",
       "       width=\"24px\">\n",
       "    <path d=\"M0 0h24v24H0V0z\" fill=\"none\"/>\n",
       "    <path d=\"M18.56 5.44l.94 2.06.94-2.06 2.06-.94-2.06-.94-.94-2.06-.94 2.06-2.06.94zm-11 1L8.5 8.5l.94-2.06 2.06-.94-2.06-.94L8.5 2.5l-.94 2.06-2.06.94zm10 10l.94 2.06.94-2.06 2.06-.94-2.06-.94-.94-2.06-.94 2.06-2.06.94z\"/><path d=\"M17.41 7.96l-1.37-1.37c-.4-.4-.92-.59-1.43-.59-.52 0-1.04.2-1.43.59L10.3 9.45l-7.72 7.72c-.78.78-.78 2.05 0 2.83L4 21.41c.39.39.9.59 1.41.59.51 0 1.02-.2 1.41-.59l7.78-7.78 2.81-2.81c.8-.78.8-2.07 0-2.86zM5.41 20L4 18.59l7.72-7.72 1.47 1.35L5.41 20z\"/>\n",
       "  </svg>\n",
       "      </button>\n",
       "      \n",
       "  <style>\n",
       "    .colab-df-container {\n",
       "      display:flex;\n",
       "      flex-wrap:wrap;\n",
       "      gap: 12px;\n",
       "    }\n",
       "\n",
       "    .colab-df-convert {\n",
       "      background-color: #E8F0FE;\n",
       "      border: none;\n",
       "      border-radius: 50%;\n",
       "      cursor: pointer;\n",
       "      display: none;\n",
       "      fill: #1967D2;\n",
       "      height: 32px;\n",
       "      padding: 0 0 0 0;\n",
       "      width: 32px;\n",
       "    }\n",
       "\n",
       "    .colab-df-convert:hover {\n",
       "      background-color: #E2EBFA;\n",
       "      box-shadow: 0px 1px 2px rgba(60, 64, 67, 0.3), 0px 1px 3px 1px rgba(60, 64, 67, 0.15);\n",
       "      fill: #174EA6;\n",
       "    }\n",
       "\n",
       "    [theme=dark] .colab-df-convert {\n",
       "      background-color: #3B4455;\n",
       "      fill: #D2E3FC;\n",
       "    }\n",
       "\n",
       "    [theme=dark] .colab-df-convert:hover {\n",
       "      background-color: #434B5C;\n",
       "      box-shadow: 0px 1px 3px 1px rgba(0, 0, 0, 0.15);\n",
       "      filter: drop-shadow(0px 1px 2px rgba(0, 0, 0, 0.3));\n",
       "      fill: #FFFFFF;\n",
       "    }\n",
       "  </style>\n",
       "\n",
       "      <script>\n",
       "        const buttonEl =\n",
       "          document.querySelector('#df-52bc9afc-3f0f-4d49-af8e-447ea49e96fd button.colab-df-convert');\n",
       "        buttonEl.style.display =\n",
       "          google.colab.kernel.accessAllowed ? 'block' : 'none';\n",
       "\n",
       "        async function convertToInteractive(key) {\n",
       "          const element = document.querySelector('#df-52bc9afc-3f0f-4d49-af8e-447ea49e96fd');\n",
       "          const dataTable =\n",
       "            await google.colab.kernel.invokeFunction('convertToInteractive',\n",
       "                                                     [key], {});\n",
       "          if (!dataTable) return;\n",
       "\n",
       "          const docLinkHtml = 'Like what you see? Visit the ' +\n",
       "            '<a target=\"_blank\" href=https://colab.research.google.com/notebooks/data_table.ipynb>data table notebook</a>'\n",
       "            + ' to learn more about interactive tables.';\n",
       "          element.innerHTML = '';\n",
       "          dataTable['output_type'] = 'display_data';\n",
       "          await google.colab.output.renderOutput(dataTable, element);\n",
       "          const docLink = document.createElement('div');\n",
       "          docLink.innerHTML = docLinkHtml;\n",
       "          element.appendChild(docLink);\n",
       "        }\n",
       "      </script>\n",
       "    </div>\n",
       "  </div>\n",
       "  "
      ],
      "text/plain": [
       "                          id  company  price_in_cents  o_city  d_city\n",
       "o_station d_station                                                  \n",
       "10895.0   6794.0     6856827     8377            1400     885     628\n",
       "11007.0   11013.0    6832380     8387            8500     272     694\n",
       "11011.0   11008.0    6819881     8387            6800     628     184\n",
       "          11010.0    6844368     8387            9600     628     524\n",
       "11012.0   11008.0    6819883     8387            6800     628     184\n",
       "          11010.0    6844369     8387            9600     628     524\n",
       "11013.0   11005.0    6835755     8387            5000     694     184\n",
       "11014.0   11005.0    6835756     8387            5000     694     184\n",
       "11015.0   11005.0    6835757     8387            5000     694     184\n",
       "11017.0   10349.0    6795677     8387            5300   12166     857"
      ]
     },
     "execution_count": 30,
     "metadata": {},
     "output_type": "execute_result"
    }
   ],
   "source": [
    "minimums.tail(10)"
   ]
  },
  {
   "cell_type": "markdown",
   "metadata": {},
   "source": [
    "# Prix moyen par Trajet"
   ]
  },
  {
   "cell_type": "code",
   "execution_count": 31,
   "metadata": {
    "id": "yrfmGWnQ9e7f"
   },
   "outputs": [],
   "source": [
    "means = df.mean('price_in_cents')"
   ]
  },
  {
   "cell_type": "code",
   "execution_count": 32,
   "metadata": {
    "colab": {
     "base_uri": "https://localhost:8080/",
     "height": 574
    },
    "id": "gPiU_bWA9fM0",
    "outputId": "7b10386c-50bb-4265-bb3f-fb4761e106f1"
   },
   "outputs": [
    {
     "data": {
      "text/html": [
       "\n",
       "  <div id=\"df-5ab9ae1a-791a-4191-b411-b31b85216797\">\n",
       "    <div class=\"colab-df-container\">\n",
       "      <div>\n",
       "<style scoped>\n",
       "    .dataframe tbody tr th:only-of-type {\n",
       "        vertical-align: middle;\n",
       "    }\n",
       "\n",
       "    .dataframe tbody tr th {\n",
       "        vertical-align: top;\n",
       "    }\n",
       "\n",
       "    .dataframe thead th {\n",
       "        text-align: right;\n",
       "    }\n",
       "</style>\n",
       "<table border=\"1\" class=\"dataframe\">\n",
       "  <thead>\n",
       "    <tr style=\"text-align: right;\">\n",
       "      <th></th>\n",
       "      <th></th>\n",
       "      <th>id</th>\n",
       "      <th>company</th>\n",
       "      <th>price_in_cents</th>\n",
       "      <th>o_city</th>\n",
       "      <th>d_city</th>\n",
       "    </tr>\n",
       "    <tr>\n",
       "      <th>o_station</th>\n",
       "      <th>d_station</th>\n",
       "      <th></th>\n",
       "      <th></th>\n",
       "      <th></th>\n",
       "      <th></th>\n",
       "      <th></th>\n",
       "    </tr>\n",
       "  </thead>\n",
       "  <tbody>\n",
       "    <tr>\n",
       "      <th rowspan=\"5\" valign=\"top\">3.0</th>\n",
       "      <th>39.0</th>\n",
       "      <td>6.841591e+06</td>\n",
       "      <td>12.333333</td>\n",
       "      <td>2238.333333</td>\n",
       "      <td>628.0</td>\n",
       "      <td>37.0</td>\n",
       "    </tr>\n",
       "    <tr>\n",
       "      <th>61.0</th>\n",
       "      <td>6.849450e+06</td>\n",
       "      <td>13.000000</td>\n",
       "      <td>4780.000000</td>\n",
       "      <td>628.0</td>\n",
       "      <td>173.0</td>\n",
       "    </tr>\n",
       "    <tr>\n",
       "      <th>123.0</th>\n",
       "      <td>6.862926e+06</td>\n",
       "      <td>13.000000</td>\n",
       "      <td>3600.000000</td>\n",
       "      <td>628.0</td>\n",
       "      <td>144.0</td>\n",
       "    </tr>\n",
       "    <tr>\n",
       "      <th>132.0</th>\n",
       "      <td>6.854169e+06</td>\n",
       "      <td>13.000000</td>\n",
       "      <td>2150.000000</td>\n",
       "      <td>628.0</td>\n",
       "      <td>158.0</td>\n",
       "    </tr>\n",
       "    <tr>\n",
       "      <th>189.0</th>\n",
       "      <td>6.854630e+06</td>\n",
       "      <td>13.000000</td>\n",
       "      <td>3680.000000</td>\n",
       "      <td>628.0</td>\n",
       "      <td>5118.0</td>\n",
       "    </tr>\n",
       "    <tr>\n",
       "      <th>...</th>\n",
       "      <th>...</th>\n",
       "      <td>...</td>\n",
       "      <td>...</td>\n",
       "      <td>...</td>\n",
       "      <td>...</td>\n",
       "      <td>...</td>\n",
       "    </tr>\n",
       "    <tr>\n",
       "      <th>11012.0</th>\n",
       "      <th>11010.0</th>\n",
       "      <td>6.844437e+06</td>\n",
       "      <td>8387.000000</td>\n",
       "      <td>9600.000000</td>\n",
       "      <td>628.0</td>\n",
       "      <td>524.0</td>\n",
       "    </tr>\n",
       "    <tr>\n",
       "      <th>11013.0</th>\n",
       "      <th>11005.0</th>\n",
       "      <td>6.835755e+06</td>\n",
       "      <td>8387.000000</td>\n",
       "      <td>5000.000000</td>\n",
       "      <td>694.0</td>\n",
       "      <td>184.0</td>\n",
       "    </tr>\n",
       "    <tr>\n",
       "      <th>11014.0</th>\n",
       "      <th>11005.0</th>\n",
       "      <td>6.835756e+06</td>\n",
       "      <td>8387.000000</td>\n",
       "      <td>5000.000000</td>\n",
       "      <td>694.0</td>\n",
       "      <td>184.0</td>\n",
       "    </tr>\n",
       "    <tr>\n",
       "      <th>11015.0</th>\n",
       "      <th>11005.0</th>\n",
       "      <td>6.835757e+06</td>\n",
       "      <td>8387.000000</td>\n",
       "      <td>5000.000000</td>\n",
       "      <td>694.0</td>\n",
       "      <td>184.0</td>\n",
       "    </tr>\n",
       "    <tr>\n",
       "      <th>11017.0</th>\n",
       "      <th>10349.0</th>\n",
       "      <td>6.795677e+06</td>\n",
       "      <td>8387.000000</td>\n",
       "      <td>5300.000000</td>\n",
       "      <td>12166.0</td>\n",
       "      <td>857.0</td>\n",
       "    </tr>\n",
       "  </tbody>\n",
       "</table>\n",
       "<p>2666 rows × 5 columns</p>\n",
       "</div>\n",
       "      <button class=\"colab-df-convert\" onclick=\"convertToInteractive('df-5ab9ae1a-791a-4191-b411-b31b85216797')\"\n",
       "              title=\"Convert this dataframe to an interactive table.\"\n",
       "              style=\"display:none;\">\n",
       "        \n",
       "  <svg xmlns=\"http://www.w3.org/2000/svg\" height=\"24px\"viewBox=\"0 0 24 24\"\n",
       "       width=\"24px\">\n",
       "    <path d=\"M0 0h24v24H0V0z\" fill=\"none\"/>\n",
       "    <path d=\"M18.56 5.44l.94 2.06.94-2.06 2.06-.94-2.06-.94-.94-2.06-.94 2.06-2.06.94zm-11 1L8.5 8.5l.94-2.06 2.06-.94-2.06-.94L8.5 2.5l-.94 2.06-2.06.94zm10 10l.94 2.06.94-2.06 2.06-.94-2.06-.94-.94-2.06-.94 2.06-2.06.94z\"/><path d=\"M17.41 7.96l-1.37-1.37c-.4-.4-.92-.59-1.43-.59-.52 0-1.04.2-1.43.59L10.3 9.45l-7.72 7.72c-.78.78-.78 2.05 0 2.83L4 21.41c.39.39.9.59 1.41.59.51 0 1.02-.2 1.41-.59l7.78-7.78 2.81-2.81c.8-.78.8-2.07 0-2.86zM5.41 20L4 18.59l7.72-7.72 1.47 1.35L5.41 20z\"/>\n",
       "  </svg>\n",
       "      </button>\n",
       "      \n",
       "  <style>\n",
       "    .colab-df-container {\n",
       "      display:flex;\n",
       "      flex-wrap:wrap;\n",
       "      gap: 12px;\n",
       "    }\n",
       "\n",
       "    .colab-df-convert {\n",
       "      background-color: #E8F0FE;\n",
       "      border: none;\n",
       "      border-radius: 50%;\n",
       "      cursor: pointer;\n",
       "      display: none;\n",
       "      fill: #1967D2;\n",
       "      height: 32px;\n",
       "      padding: 0 0 0 0;\n",
       "      width: 32px;\n",
       "    }\n",
       "\n",
       "    .colab-df-convert:hover {\n",
       "      background-color: #E2EBFA;\n",
       "      box-shadow: 0px 1px 2px rgba(60, 64, 67, 0.3), 0px 1px 3px 1px rgba(60, 64, 67, 0.15);\n",
       "      fill: #174EA6;\n",
       "    }\n",
       "\n",
       "    [theme=dark] .colab-df-convert {\n",
       "      background-color: #3B4455;\n",
       "      fill: #D2E3FC;\n",
       "    }\n",
       "\n",
       "    [theme=dark] .colab-df-convert:hover {\n",
       "      background-color: #434B5C;\n",
       "      box-shadow: 0px 1px 3px 1px rgba(0, 0, 0, 0.15);\n",
       "      filter: drop-shadow(0px 1px 2px rgba(0, 0, 0, 0.3));\n",
       "      fill: #FFFFFF;\n",
       "    }\n",
       "  </style>\n",
       "\n",
       "      <script>\n",
       "        const buttonEl =\n",
       "          document.querySelector('#df-5ab9ae1a-791a-4191-b411-b31b85216797 button.colab-df-convert');\n",
       "        buttonEl.style.display =\n",
       "          google.colab.kernel.accessAllowed ? 'block' : 'none';\n",
       "\n",
       "        async function convertToInteractive(key) {\n",
       "          const element = document.querySelector('#df-5ab9ae1a-791a-4191-b411-b31b85216797');\n",
       "          const dataTable =\n",
       "            await google.colab.kernel.invokeFunction('convertToInteractive',\n",
       "                                                     [key], {});\n",
       "          if (!dataTable) return;\n",
       "\n",
       "          const docLinkHtml = 'Like what you see? Visit the ' +\n",
       "            '<a target=\"_blank\" href=https://colab.research.google.com/notebooks/data_table.ipynb>data table notebook</a>'\n",
       "            + ' to learn more about interactive tables.';\n",
       "          element.innerHTML = '';\n",
       "          dataTable['output_type'] = 'display_data';\n",
       "          await google.colab.output.renderOutput(dataTable, element);\n",
       "          const docLink = document.createElement('div');\n",
       "          docLink.innerHTML = docLinkHtml;\n",
       "          element.appendChild(docLink);\n",
       "        }\n",
       "      </script>\n",
       "    </div>\n",
       "  </div>\n",
       "  "
      ],
      "text/plain": [
       "                               id      company  price_in_cents   o_city  d_city\n",
       "o_station d_station                                                            \n",
       "3.0       39.0       6.841591e+06    12.333333     2238.333333    628.0    37.0\n",
       "          61.0       6.849450e+06    13.000000     4780.000000    628.0   173.0\n",
       "          123.0      6.862926e+06    13.000000     3600.000000    628.0   144.0\n",
       "          132.0      6.854169e+06    13.000000     2150.000000    628.0   158.0\n",
       "          189.0      6.854630e+06    13.000000     3680.000000    628.0  5118.0\n",
       "...                           ...          ...             ...      ...     ...\n",
       "11012.0   11010.0    6.844437e+06  8387.000000     9600.000000    628.0   524.0\n",
       "11013.0   11005.0    6.835755e+06  8387.000000     5000.000000    694.0   184.0\n",
       "11014.0   11005.0    6.835756e+06  8387.000000     5000.000000    694.0   184.0\n",
       "11015.0   11005.0    6.835757e+06  8387.000000     5000.000000    694.0   184.0\n",
       "11017.0   10349.0    6.795677e+06  8387.000000     5300.000000  12166.0   857.0\n",
       "\n",
       "[2666 rows x 5 columns]"
      ]
     },
     "execution_count": 32,
     "metadata": {},
     "output_type": "execute_result"
    }
   ],
   "source": [
    "means"
   ]
  },
  {
   "cell_type": "code",
   "execution_count": null,
   "metadata": {
    "id": "KAKaMB6q9fhu"
   },
   "outputs": [],
   "source": []
  },
  {
   "cell_type": "code",
   "execution_count": null,
   "metadata": {
    "id": "t0b9mQ-R9NyS"
   },
   "outputs": [],
   "source": []
  },
  {
   "cell_type": "markdown",
   "metadata": {
    "id": "IetmHyuu9OIL"
   },
   "source": [
    "# on utilise cette boucle pour avoir une data frame contenant 4 columns pour nous aider à bien comprendre la data et aussi à visualiser"
   ]
  },
  {
   "cell_type": "code",
   "execution_count": 33,
   "metadata": {
    "id": "iEJWyMNH6mQb"
   },
   "outputs": [],
   "source": [
    "\n",
    "distance=[]\n",
    "df_tickets.dropna(inplace=True)\n",
    "df_stations.dropna(inplace=True)\n",
    "#df_tickets=df_tickets.drop_duplicates(subset=['o_station', 'd_station'], keep='last')\n",
    "\n",
    "for x,y,z,e in zip(df_tickets['o_station'],df_tickets['d_station'],df_tickets['id'],df_tickets['company']):\n",
    "\n",
    "  price,=df_tickets.loc[df_tickets['id']==z,'price_in_cents']\n",
    "\n",
    "  arrival_ts,=df_tickets.loc[df_tickets['id']==z,'arrival_ts']\n",
    "\n",
    "  departure_ts,=df_tickets.loc[df_tickets['id']==z,'departure_ts']\n",
    "\n",
    "  duration=dt.strptime(arrival_ts,\"%Y-%m-%d %H:%M:%S+%f\")-dt.strptime(departure_ts,\"%Y-%m-%d %H:%M:%S+%f\")\n",
    "\n",
    "  transport,=df_providers.loc[df_providers['id']==e, 'transport_type']\n",
    "\n",
    "  o_la, = df_stations.loc[df_stations['id']==x,'latitude']\n",
    "  o_lon,=df_stations.loc[df_stations['id']==x,'longitude']\n",
    "\n",
    "  d_la,=df_stations.loc[df_stations['id']==y, 'latitude']\n",
    "  d_lon,=df_stations.loc[df_stations['id']==y, 'longitude']\n",
    "\n",
    "  distance=dist_cities(o_la,o_lon,d_la,d_lon)\n",
    "\n",
    "  df_data = df_data.append({'price_in_cents': price, 'duration':duration,'transport':transport,'distance':distance}, ignore_index=True)"
   ]
  },
  {
   "cell_type": "code",
   "execution_count": null,
   "metadata": {
    "id": "YVELdE377AlQ"
   },
   "outputs": [],
   "source": []
  },
  {
   "cell_type": "code",
   "execution_count": 35,
   "metadata": {
    "id": "GLK-2S2EwYy_"
   },
   "outputs": [],
   "source": []
  },
  {
   "cell_type": "code",
   "execution_count": null,
   "metadata": {
    "colab": {
     "base_uri": "https://localhost:8080/",
     "height": 202
    },
    "id": "Ci1aCSlGwcCH",
    "outputId": "f64762df-3d53-46b1-b6a3-6fbcca39adc0"
   },
   "outputs": [],
   "source": [
    "df_bus=df_data.loc[df_data['transport']==\"bus\"]"
   ]
  },
  {
   "cell_type": "code",
   "execution_count": 36,
   "metadata": {
    "colab": {
     "base_uri": "https://localhost:8080/",
     "height": 628
    },
    "id": "Cp7DE5P7baxA",
    "outputId": "b5e61550-e83c-4ee2-8c55-9878cd7697c5"
   },
   "outputs": [
    {
     "data": {
      "text/plain": [
       "<matplotlib.axes._subplots.AxesSubplot at 0x7f748f3f3150>"
      ]
     },
     "execution_count": 36,
     "metadata": {},
     "output_type": "execute_result"
    },
    {
     "data": {
      "image/png": "[encoded data removed]",
      "text/plain": [
       "<Figure size 1440x720 with 1 Axes>"
      ]
     },
     "metadata": {
      "needs_background": "light"
     },
     "output_type": "display_data"
    }
   ],
   "source": [
    "import seaborn as sns\n",
    "import matplotlib.pyplot as plt\n",
    "fig_dims = (20, 10)\n",
    "fig, ax = plt.subplots(figsize=fig_dims)\n",
    "sns.histplot(data=df_bus, x=\"distance\",y=\"price_in_cents\")\n"
   ]
  },
  {
   "cell_type": "code",
   "execution_count": 37,
   "metadata": {
    "id": "8USFHNPQgUcW"
   },
   "outputs": [],
   "source": []
  },
  {
   "cell_type": "code",
   "execution_count": null,
   "metadata": {
    "colab": {
     "base_uri": "https://localhost:8080/"
    },
    "id": "yl-GE05_hryf",
    "outputId": "d4c3f2de-38a8-4548-898b-25155cc4997f"
   },
   "outputs": [],
   "source": []
  },
  {
   "cell_type": "code",
   "execution_count": null,
   "metadata": {
    "colab": {
     "base_uri": "https://localhost:8080/"
    },
    "id": "LY_umom5h6EV",
    "outputId": "cadf0247-c79f-4eef-fb29-b43ad12deeb9"
   },
   "outputs": [],
   "source": []
  },
  {
   "cell_type": "markdown",
   "metadata": {
    "id": "qP92MavNiG27"
   },
   "source": [
    "# Visualisation des trajets par rapport au nombre d'heure et la distance (0,200,800,2000+)\n",
    "\n",
    "## on peut voir que pour le train, les voyages ne dépassent pas les 2 heures quelle que soit la distance, et aussi que les voyages en train ne vont pas plus que les ~2000km.\n",
    "\n",
    "## aussi, si on compare le len du tableau df_train et df_bus, on peut dire que les gens aime voyager en train qu'en bus."
   ]
  },
  {
   "cell_type": "code",
   "execution_count": 64,
   "metadata": {
    "colab": {
     "base_uri": "https://localhost:8080/",
     "height": 1000
    },
    "id": "lAOnQkl8iH-a",
    "outputId": "9bb808ca-daf8-4676-a118-384a8b5be15f"
   },
   "outputs": [
    {
     "name": "stderr",
     "output_type": "stream",
     "text": [
      "/usr/local/lib/python3.7/dist-packages/ipykernel_launcher.py:9: SettingWithCopyWarning: \n",
      "A value is trying to be set on a copy of a slice from a DataFrame.\n",
      "Try using .loc[row_indexer,col_indexer] = value instead\n",
      "\n",
      "See the caveats in the documentation: https://pandas.pydata.org/pandas-docs/stable/user_guide/indexing.html#returning-a-view-versus-a-copy\n",
      "  if __name__ == '__main__':\n",
      "/usr/local/lib/python3.7/dist-packages/ipykernel_launcher.py:11: SettingWithCopyWarning: \n",
      "A value is trying to be set on a copy of a slice from a DataFrame.\n",
      "Try using .loc[row_indexer,col_indexer] = value instead\n",
      "\n",
      "See the caveats in the documentation: https://pandas.pydata.org/pandas-docs/stable/user_guide/indexing.html#returning-a-view-versus-a-copy\n",
      "  # This is added back by InteractiveShellApp.init_path()\n"
     ]
    },
    {
     "data": {
      "text/plain": [
       "[Text(0, 0, '0-200'),\n",
       " Text(0, 0, '201-800'),\n",
       " Text(0, 0, '800-2000'),\n",
       " Text(0, 0, '2000+')]"
      ]
     },
     "execution_count": 64,
     "metadata": {},
     "output_type": "execute_result"
    },
    {
     "data": {
      "image/png": "[encoded data removed]",
      "text/plain": [
       "<Figure size 1440x936 with 1 Axes>"
      ]
     },
     "metadata": {
      "needs_background": "light"
     },
     "output_type": "display_data"
    }
   ],
   "source": [
    "import seaborn as sns\n",
    "import matplotlib.pyplot as plt\n",
    "from datetime import datetime as dt\n",
    "import datetime\n",
    "\n",
    "df_bus=df_data.loc[df_data['transport']==\"bus\"]\n",
    "df_train=df_data.loc[df_data['transport']==\"train\"]\n",
    "\n",
    "df_train['duration']=[((x.total_seconds())/216000) for x in df_train['duration']]\n",
    "#df_train['duration']=[x/3600*60 for x in df_train['duration']]\n",
    "df_bus['duration']=[((x.total_seconds())/216000)for x in df_bus['duration']]\n",
    "#df_bus['duration']=[x/3600*60 for x in df_bus['duration']]\n",
    "fig_dims = (20, 13)\n",
    "fig, ax = plt.subplots(figsize=fig_dims)\n",
    "#ax.set(ylim=(0, 1000000))\n",
    "pp=sns.scatterplot(data=df_train, x=\"distance\",y=\"duration\", color=\"blue\")\n",
    "pp=sns.scatterplot(data=df_bus, x=\"distance\",y=\"duration\",color=\"green\")\n",
    "\n",
    "ax.set_xticks([0,200,800,2000])\n",
    "ax.set_xticklabels(['0-200','201-800','800-2000','2000+'])\n"
   ]
  },
  {
   "cell_type": "markdown",
   "metadata": {
    "id": "Hh9yZMx7kjIV"
   },
   "source": [
    "# Visualisation des trajets par rapport au prix et la distance (0,200,800,2000+)\n",
    "\n",
    "## La première remarque c'est que les prix en train sont bien plus élevés qu'en bus.\n",
    "## et pour le train les prix s'augmentent exponentiellement par rapport au distance, alors que sur le bus les prix sont un peu stable"
   ]
  },
  {
   "cell_type": "code",
   "execution_count": 48,
   "metadata": {
    "colab": {
     "base_uri": "https://localhost:8080/",
     "height": 850
    },
    "id": "rDy3ABtpklw8",
    "outputId": "4fa7c04d-10d4-4c16-fea5-109c512f22b0"
   },
   "outputs": [
    {
     "name": "stderr",
     "output_type": "stream",
     "text": [
      "/usr/local/lib/python3.7/dist-packages/ipykernel_launcher.py:10: SettingWithCopyWarning: \n",
      "A value is trying to be set on a copy of a slice from a DataFrame.\n",
      "Try using .loc[row_indexer,col_indexer] = value instead\n",
      "\n",
      "See the caveats in the documentation: https://pandas.pydata.org/pandas-docs/stable/user_guide/indexing.html#returning-a-view-versus-a-copy\n",
      "  # Remove the CWD from sys.path while we load stuff.\n",
      "/usr/local/lib/python3.7/dist-packages/ipykernel_launcher.py:12: SettingWithCopyWarning: \n",
      "A value is trying to be set on a copy of a slice from a DataFrame.\n",
      "Try using .loc[row_indexer,col_indexer] = value instead\n",
      "\n",
      "See the caveats in the documentation: https://pandas.pydata.org/pandas-docs/stable/user_guide/indexing.html#returning-a-view-versus-a-copy\n",
      "  if sys.path[0] == '':\n"
     ]
    },
    {
     "data": {
      "text/plain": [
       "[Text(0, 0, '0-200'),\n",
       " Text(0, 0, '201-800'),\n",
       " Text(0, 0, '800-2000'),\n",
       " Text(0, 0, '2000+')]"
      ]
     },
     "execution_count": 48,
     "metadata": {},
     "output_type": "execute_result"
    },
    {
     "data": {
      "image/png": "[encoded data removed]",
      "text/plain": [
       "<Figure size 1440x576 with 1 Axes>"
      ]
     },
     "metadata": {
      "needs_background": "light"
     },
     "output_type": "display_data"
    }
   ],
   "source": [
    "import seaborn as sns\n",
    "import matplotlib.pyplot as plt\n",
    "from datetime import datetime as dt\n",
    "import datetime\n",
    "\n",
    "\n",
    "df_bus=df_data.loc[df_data['transport']==\"bus\"]\n",
    "df_train=df_data.loc[df_data['transport']==\"train\"]\n",
    "\n",
    "df_train['price_in_cents']=[x/100 for x in df_train['price_in_cents']]\n",
    "#df_train['duration']=[x/60 for x in df_train['duration']]\n",
    "df_bus['price_in_cents']=[x/100 for x in df_bus['price_in_cents']]\n",
    "#df_bus['duration']=[x/60 for x in df_bus['duration']]\n",
    "fig_dims = (20, 8)\n",
    "fig, ax = plt.subplots(figsize=fig_dims)\n",
    "#ax.set(ylim=(0, 1000000))\n",
    "pp=sns.scatterplot(data=df_train, x=\"distance\",y=\"price_in_cents\", color=\"blue\")\n",
    "pp=sns.scatterplot(data=df_bus, x=\"distance\",y=\"price_in_cents\",color=\"green\")\n",
    "\n",
    "ax.set_xticks([0,200,800,2000])\n",
    "ax.set_xticklabels(['0-200','201-800','800-2000','2000+'])\n"
   ]
  },
  {
   "cell_type": "code",
   "execution_count": 41,
   "metadata": {
    "id": "NCFTF9A1ksvx"
   },
   "outputs": [],
   "source": []
  },
  {
   "cell_type": "code",
   "execution_count": 41,
   "metadata": {
    "id": "IHr8GSMvnKPC"
   },
   "outputs": [],
   "source": []
  },
  {
   "cell_type": "code",
   "execution_count": 41,
   "metadata": {
    "id": "x0t3PR8inu7D"
   },
   "outputs": [],
   "source": []
  },
  {
   "cell_type": "code",
   "execution_count": 41,
   "metadata": {
    "id": "vHzmMf8ZoWyL"
   },
   "outputs": [],
   "source": []
  },
  {
   "cell_type": "code",
   "execution_count": 41,
   "metadata": {
    "id": "ARu60PwwoYC6"
   },
   "outputs": [],
   "source": []
  },
  {
   "cell_type": "code",
   "execution_count": null,
   "metadata": {
    "id": "ghRuwtXPobPA"
   },
   "outputs": [],
   "source": [
    "df_tickets=pd.read_csv(\"ticket_data.csv\")"
   ]
  },
  {
   "cell_type": "code",
   "execution_count": null,
   "metadata": {
    "colab": {
     "base_uri": "https://localhost:8080/",
     "height": 534
    },
    "id": "g6fi0P4JvHQR",
    "outputId": "d31d1845-df28-498a-8cc6-0a34bd7dd06c"
   },
   "outputs": [],
   "source": [
    "df_tickets"
   ]
  },
  {
   "cell_type": "markdown",
   "metadata": {},
   "source": [
    "# Visualisation pour voir les mois où les gens achètent plus de tickets ou bien où les gens voyagent.\n",
    "\n",
    "## on constate que plus que 90% des tickets ont été achetés le mois d'octobre.\n"
   ]
  },
  {
   "cell_type": "code",
   "execution_count": 51,
   "metadata": {
    "id": "4_V7ANluvJKq"
   },
   "outputs": [],
   "source": [
    "import seaborn as sns\n",
    "import matplotlib.pyplot as plt\n",
    "from datetime import datetime as dt\n",
    "import datetime\n",
    "\n",
    "#sns.lineplot(x = \"departure_ts\", y = \"Col_1\",\n",
    " #            data = df)\n",
    "def return_month(x):\n",
    "  temp=datetime.datetime.strptime(x,'%Y-%m-%d %H:%M:%S+%f')\n",
    "  final = temp.strftime('%m')\n",
    "  return final\n",
    "\n",
    "df_tickets['departure_ts']=[return_month(x) for x in df_tickets['departure_ts']]"
   ]
  },
  {
   "cell_type": "code",
   "execution_count": 52,
   "metadata": {
    "colab": {
     "base_uri": "https://localhost:8080/",
     "height": 1000
    },
    "id": "c5dzK7G0xJD_",
    "outputId": "c209ce4d-4fd6-4f48-e6bd-ba8f48e1d088"
   },
   "outputs": [
    {
     "data": {
      "text/plain": [
       "<matplotlib.axes._subplots.AxesSubplot at 0x7f748d340290>"
      ]
     },
     "execution_count": 52,
     "metadata": {},
     "output_type": "execute_result"
    },
    {
     "data": {
      "image/png": "[encoded data removed]",
      "text/plain": [
       "<Figure size 936x1224 with 1 Axes>"
      ]
     },
     "metadata": {
      "needs_background": "light"
     },
     "output_type": "display_data"
    }
   ],
   "source": [
    "df_tickets.groupby(['departure_ts']).size().plot(figsize=(13,17),kind='bar')"
   ]
  },
  {
   "cell_type": "code",
   "execution_count": 53,
   "metadata": {
    "id": "fzEhfzopxKS9"
   },
   "outputs": [],
   "source": [
    "df_tickets=df_tickets.fillna(0)"
   ]
  },
  {
   "cell_type": "markdown",
   "metadata": {
    "id": "pE_MIabVxTq1"
   },
   "source": [
    "# on peut créer un model simple pour prédire les prix en fonction du mois, du company, o_station, d_station.\n"
   ]
  },
  {
   "cell_type": "code",
   "execution_count": 55,
   "metadata": {
    "colab": {
     "base_uri": "https://localhost:8080/",
     "height": 534
    },
    "id": "uSnLxsGRz1QZ",
    "outputId": "a73bfe49-b905-497f-b8d4-a2f7acb23522"
   },
   "outputs": [
    {
     "data": {
      "text/html": [
       "\n",
       "  <div id=\"df-e89b912d-f6ec-47d3-ac0a-7292389fa138\">\n",
       "    <div class=\"colab-df-container\">\n",
       "      <div>\n",
       "<style scoped>\n",
       "    .dataframe tbody tr th:only-of-type {\n",
       "        vertical-align: middle;\n",
       "    }\n",
       "\n",
       "    .dataframe tbody tr th {\n",
       "        vertical-align: top;\n",
       "    }\n",
       "\n",
       "    .dataframe thead th {\n",
       "        text-align: right;\n",
       "    }\n",
       "</style>\n",
       "<table border=\"1\" class=\"dataframe\">\n",
       "  <thead>\n",
       "    <tr style=\"text-align: right;\">\n",
       "      <th></th>\n",
       "      <th>id</th>\n",
       "      <th>company</th>\n",
       "      <th>o_station</th>\n",
       "      <th>d_station</th>\n",
       "      <th>departure_ts</th>\n",
       "      <th>arrival_ts</th>\n",
       "      <th>price_in_cents</th>\n",
       "      <th>search_ts</th>\n",
       "      <th>middle_stations</th>\n",
       "      <th>other_companies</th>\n",
       "      <th>o_city</th>\n",
       "      <th>d_city</th>\n",
       "    </tr>\n",
       "  </thead>\n",
       "  <tbody>\n",
       "    <tr>\n",
       "      <th>0</th>\n",
       "      <td>6795025</td>\n",
       "      <td>8385</td>\n",
       "      <td>0.0</td>\n",
       "      <td>0.0</td>\n",
       "      <td>10</td>\n",
       "      <td>2017-10-13 20:10:00+00</td>\n",
       "      <td>4550</td>\n",
       "      <td>2017-10-01 00:13:31.327+00</td>\n",
       "      <td>0</td>\n",
       "      <td>0</td>\n",
       "      <td>611</td>\n",
       "      <td>542</td>\n",
       "    </tr>\n",
       "    <tr>\n",
       "      <th>1</th>\n",
       "      <td>6795026</td>\n",
       "      <td>9</td>\n",
       "      <td>63.0</td>\n",
       "      <td>1044.0</td>\n",
       "      <td>10</td>\n",
       "      <td>2017-10-14 06:55:00+00</td>\n",
       "      <td>1450</td>\n",
       "      <td>2017-10-01 00:13:35.773+00</td>\n",
       "      <td>{149,418}</td>\n",
       "      <td>{13}</td>\n",
       "      <td>611</td>\n",
       "      <td>542</td>\n",
       "    </tr>\n",
       "    <tr>\n",
       "      <th>2</th>\n",
       "      <td>6795027</td>\n",
       "      <td>8377</td>\n",
       "      <td>5905.0</td>\n",
       "      <td>6495.0</td>\n",
       "      <td>10</td>\n",
       "      <td>2017-10-14 21:24:00+00</td>\n",
       "      <td>7400</td>\n",
       "      <td>2017-10-01 00:13:40.212+00</td>\n",
       "      <td>{798,798,6794,6246}</td>\n",
       "      <td>{8377,8376}</td>\n",
       "      <td>611</td>\n",
       "      <td>542</td>\n",
       "    </tr>\n",
       "    <tr>\n",
       "      <th>3</th>\n",
       "      <td>6795028</td>\n",
       "      <td>8377</td>\n",
       "      <td>5905.0</td>\n",
       "      <td>6495.0</td>\n",
       "      <td>10</td>\n",
       "      <td>2017-10-14 11:02:00+00</td>\n",
       "      <td>13500</td>\n",
       "      <td>2017-10-01 00:13:40.213+00</td>\n",
       "      <td>{798,798,6794,6246}</td>\n",
       "      <td>{8377,8376}</td>\n",
       "      <td>611</td>\n",
       "      <td>542</td>\n",
       "    </tr>\n",
       "    <tr>\n",
       "      <th>4</th>\n",
       "      <td>6795029</td>\n",
       "      <td>8381</td>\n",
       "      <td>5905.0</td>\n",
       "      <td>6495.0</td>\n",
       "      <td>10</td>\n",
       "      <td>2017-10-14 19:32:00+00</td>\n",
       "      <td>7710</td>\n",
       "      <td>2017-10-01 00:13:40.213+00</td>\n",
       "      <td>{5983,5983}</td>\n",
       "      <td>{8380}</td>\n",
       "      <td>611</td>\n",
       "      <td>542</td>\n",
       "    </tr>\n",
       "    <tr>\n",
       "      <th>...</th>\n",
       "      <td>...</td>\n",
       "      <td>...</td>\n",
       "      <td>...</td>\n",
       "      <td>...</td>\n",
       "      <td>...</td>\n",
       "      <td>...</td>\n",
       "      <td>...</td>\n",
       "      <td>...</td>\n",
       "      <td>...</td>\n",
       "      <td>...</td>\n",
       "      <td>...</td>\n",
       "      <td>...</td>\n",
       "    </tr>\n",
       "    <tr>\n",
       "      <th>74163</th>\n",
       "      <td>6869182</td>\n",
       "      <td>13</td>\n",
       "      <td>279.0</td>\n",
       "      <td>10729.0</td>\n",
       "      <td>10</td>\n",
       "      <td>2017-10-27 16:00:00+00</td>\n",
       "      <td>2590</td>\n",
       "      <td>2017-10-19 10:35:42.943+00</td>\n",
       "      <td>{408,408}</td>\n",
       "      <td>{8371}</td>\n",
       "      <td>628</td>\n",
       "      <td>562</td>\n",
       "    </tr>\n",
       "    <tr>\n",
       "      <th>74164</th>\n",
       "      <td>6869185</td>\n",
       "      <td>9</td>\n",
       "      <td>279.0</td>\n",
       "      <td>304.0</td>\n",
       "      <td>10</td>\n",
       "      <td>2017-10-27 13:30:00+00</td>\n",
       "      <td>2700</td>\n",
       "      <td>2017-10-19 10:35:42.943+00</td>\n",
       "      <td>{1105,1105}</td>\n",
       "      <td>{9}</td>\n",
       "      <td>628</td>\n",
       "      <td>562</td>\n",
       "    </tr>\n",
       "    <tr>\n",
       "      <th>74165</th>\n",
       "      <td>6869187</td>\n",
       "      <td>8371</td>\n",
       "      <td>10642.0</td>\n",
       "      <td>304.0</td>\n",
       "      <td>10</td>\n",
       "      <td>2017-10-27 15:15:00+00</td>\n",
       "      <td>3000</td>\n",
       "      <td>2017-10-19 10:35:42.943+00</td>\n",
       "      <td>{1105,1105}</td>\n",
       "      <td>{9}</td>\n",
       "      <td>628</td>\n",
       "      <td>562</td>\n",
       "    </tr>\n",
       "    <tr>\n",
       "      <th>74166</th>\n",
       "      <td>6869189</td>\n",
       "      <td>13</td>\n",
       "      <td>279.0</td>\n",
       "      <td>304.0</td>\n",
       "      <td>10</td>\n",
       "      <td>2017-10-27 21:10:00+00</td>\n",
       "      <td>2880</td>\n",
       "      <td>2017-10-19 10:35:42.943+00</td>\n",
       "      <td>{863,863}</td>\n",
       "      <td>{13}</td>\n",
       "      <td>628</td>\n",
       "      <td>562</td>\n",
       "    </tr>\n",
       "    <tr>\n",
       "      <th>74167</th>\n",
       "      <td>6869191</td>\n",
       "      <td>8371</td>\n",
       "      <td>10642.0</td>\n",
       "      <td>10729.0</td>\n",
       "      <td>10</td>\n",
       "      <td>2017-10-27 21:40:00+00</td>\n",
       "      <td>2000</td>\n",
       "      <td>2017-10-19 10:35:42.943+00</td>\n",
       "      <td>{863,863}</td>\n",
       "      <td>{8371}</td>\n",
       "      <td>628</td>\n",
       "      <td>562</td>\n",
       "    </tr>\n",
       "  </tbody>\n",
       "</table>\n",
       "<p>74168 rows × 12 columns</p>\n",
       "</div>\n",
       "      <button class=\"colab-df-convert\" onclick=\"convertToInteractive('df-e89b912d-f6ec-47d3-ac0a-7292389fa138')\"\n",
       "              title=\"Convert this dataframe to an interactive table.\"\n",
       "              style=\"display:none;\">\n",
       "        \n",
       "  <svg xmlns=\"http://www.w3.org/2000/svg\" height=\"24px\"viewBox=\"0 0 24 24\"\n",
       "       width=\"24px\">\n",
       "    <path d=\"M0 0h24v24H0V0z\" fill=\"none\"/>\n",
       "    <path d=\"M18.56 5.44l.94 2.06.94-2.06 2.06-.94-2.06-.94-.94-2.06-.94 2.06-2.06.94zm-11 1L8.5 8.5l.94-2.06 2.06-.94-2.06-.94L8.5 2.5l-.94 2.06-2.06.94zm10 10l.94 2.06.94-2.06 2.06-.94-2.06-.94-.94-2.06-.94 2.06-2.06.94z\"/><path d=\"M17.41 7.96l-1.37-1.37c-.4-.4-.92-.59-1.43-.59-.52 0-1.04.2-1.43.59L10.3 9.45l-7.72 7.72c-.78.78-.78 2.05 0 2.83L4 21.41c.39.39.9.59 1.41.59.51 0 1.02-.2 1.41-.59l7.78-7.78 2.81-2.81c.8-.78.8-2.07 0-2.86zM5.41 20L4 18.59l7.72-7.72 1.47 1.35L5.41 20z\"/>\n",
       "  </svg>\n",
       "      </button>\n",
       "      \n",
       "  <style>\n",
       "    .colab-df-container {\n",
       "      display:flex;\n",
       "      flex-wrap:wrap;\n",
       "      gap: 12px;\n",
       "    }\n",
       "\n",
       "    .colab-df-convert {\n",
       "      background-color: #E8F0FE;\n",
       "      border: none;\n",
       "      border-radius: 50%;\n",
       "      cursor: pointer;\n",
       "      display: none;\n",
       "      fill: #1967D2;\n",
       "      height: 32px;\n",
       "      padding: 0 0 0 0;\n",
       "      width: 32px;\n",
       "    }\n",
       "\n",
       "    .colab-df-convert:hover {\n",
       "      background-color: #E2EBFA;\n",
       "      box-shadow: 0px 1px 2px rgba(60, 64, 67, 0.3), 0px 1px 3px 1px rgba(60, 64, 67, 0.15);\n",
       "      fill: #174EA6;\n",
       "    }\n",
       "\n",
       "    [theme=dark] .colab-df-convert {\n",
       "      background-color: #3B4455;\n",
       "      fill: #D2E3FC;\n",
       "    }\n",
       "\n",
       "    [theme=dark] .colab-df-convert:hover {\n",
       "      background-color: #434B5C;\n",
       "      box-shadow: 0px 1px 3px 1px rgba(0, 0, 0, 0.15);\n",
       "      filter: drop-shadow(0px 1px 2px rgba(0, 0, 0, 0.3));\n",
       "      fill: #FFFFFF;\n",
       "    }\n",
       "  </style>\n",
       "\n",
       "      <script>\n",
       "        const buttonEl =\n",
       "          document.querySelector('#df-e89b912d-f6ec-47d3-ac0a-7292389fa138 button.colab-df-convert');\n",
       "        buttonEl.style.display =\n",
       "          google.colab.kernel.accessAllowed ? 'block' : 'none';\n",
       "\n",
       "        async function convertToInteractive(key) {\n",
       "          const element = document.querySelector('#df-e89b912d-f6ec-47d3-ac0a-7292389fa138');\n",
       "          const dataTable =\n",
       "            await google.colab.kernel.invokeFunction('convertToInteractive',\n",
       "                                                     [key], {});\n",
       "          if (!dataTable) return;\n",
       "\n",
       "          const docLinkHtml = 'Like what you see? Visit the ' +\n",
       "            '<a target=\"_blank\" href=https://colab.research.google.com/notebooks/data_table.ipynb>data table notebook</a>'\n",
       "            + ' to learn more about interactive tables.';\n",
       "          element.innerHTML = '';\n",
       "          dataTable['output_type'] = 'display_data';\n",
       "          await google.colab.output.renderOutput(dataTable, element);\n",
       "          const docLink = document.createElement('div');\n",
       "          docLink.innerHTML = docLinkHtml;\n",
       "          element.appendChild(docLink);\n",
       "        }\n",
       "      </script>\n",
       "    </div>\n",
       "  </div>\n",
       "  "
      ],
      "text/plain": [
       "            id  company  o_station  ...  other_companies o_city d_city\n",
       "0      6795025     8385        0.0  ...                0    611    542\n",
       "1      6795026        9       63.0  ...             {13}    611    542\n",
       "2      6795027     8377     5905.0  ...      {8377,8376}    611    542\n",
       "3      6795028     8377     5905.0  ...      {8377,8376}    611    542\n",
       "4      6795029     8381     5905.0  ...           {8380}    611    542\n",
       "...        ...      ...        ...  ...              ...    ...    ...\n",
       "74163  6869182       13      279.0  ...           {8371}    628    562\n",
       "74164  6869185        9      279.0  ...              {9}    628    562\n",
       "74165  6869187     8371    10642.0  ...              {9}    628    562\n",
       "74166  6869189       13      279.0  ...             {13}    628    562\n",
       "74167  6869191     8371    10642.0  ...           {8371}    628    562\n",
       "\n",
       "[74168 rows x 12 columns]"
      ]
     },
     "execution_count": 55,
     "metadata": {},
     "output_type": "execute_result"
    }
   ],
   "source": [
    "df_tickets"
   ]
  },
  {
   "cell_type": "code",
   "execution_count": 56,
   "metadata": {
    "id": "Vbb_Yh0M15vi"
   },
   "outputs": [],
   "source": [
    "df_new=df_tickets.drop(['id','arrival_ts','search_ts','middle_stations','other_companies'], axis = 1)"
   ]
  },
  {
   "cell_type": "code",
   "execution_count": 57,
   "metadata": {
    "colab": {
     "base_uri": "https://localhost:8080/",
     "height": 534
    },
    "id": "CsUdbaeXFhrk",
    "outputId": "36797772-75f6-4d10-928b-12c578a87286"
   },
   "outputs": [
    {
     "data": {
      "text/html": [
       "\n",
       "  <div id=\"df-8f56f3ad-e1d0-4479-8505-566634f8cbcb\">\n",
       "    <div class=\"colab-df-container\">\n",
       "      <div>\n",
       "<style scoped>\n",
       "    .dataframe tbody tr th:only-of-type {\n",
       "        vertical-align: middle;\n",
       "    }\n",
       "\n",
       "    .dataframe tbody tr th {\n",
       "        vertical-align: top;\n",
       "    }\n",
       "\n",
       "    .dataframe thead th {\n",
       "        text-align: right;\n",
       "    }\n",
       "</style>\n",
       "<table border=\"1\" class=\"dataframe\">\n",
       "  <thead>\n",
       "    <tr style=\"text-align: right;\">\n",
       "      <th></th>\n",
       "      <th>company</th>\n",
       "      <th>o_station</th>\n",
       "      <th>d_station</th>\n",
       "      <th>departure_ts</th>\n",
       "      <th>price_in_cents</th>\n",
       "      <th>o_city</th>\n",
       "      <th>d_city</th>\n",
       "    </tr>\n",
       "  </thead>\n",
       "  <tbody>\n",
       "    <tr>\n",
       "      <th>0</th>\n",
       "      <td>8385</td>\n",
       "      <td>0.0</td>\n",
       "      <td>0.0</td>\n",
       "      <td>10</td>\n",
       "      <td>4550</td>\n",
       "      <td>611</td>\n",
       "      <td>542</td>\n",
       "    </tr>\n",
       "    <tr>\n",
       "      <th>1</th>\n",
       "      <td>9</td>\n",
       "      <td>63.0</td>\n",
       "      <td>1044.0</td>\n",
       "      <td>10</td>\n",
       "      <td>1450</td>\n",
       "      <td>611</td>\n",
       "      <td>542</td>\n",
       "    </tr>\n",
       "    <tr>\n",
       "      <th>2</th>\n",
       "      <td>8377</td>\n",
       "      <td>5905.0</td>\n",
       "      <td>6495.0</td>\n",
       "      <td>10</td>\n",
       "      <td>7400</td>\n",
       "      <td>611</td>\n",
       "      <td>542</td>\n",
       "    </tr>\n",
       "    <tr>\n",
       "      <th>3</th>\n",
       "      <td>8377</td>\n",
       "      <td>5905.0</td>\n",
       "      <td>6495.0</td>\n",
       "      <td>10</td>\n",
       "      <td>13500</td>\n",
       "      <td>611</td>\n",
       "      <td>542</td>\n",
       "    </tr>\n",
       "    <tr>\n",
       "      <th>4</th>\n",
       "      <td>8381</td>\n",
       "      <td>5905.0</td>\n",
       "      <td>6495.0</td>\n",
       "      <td>10</td>\n",
       "      <td>7710</td>\n",
       "      <td>611</td>\n",
       "      <td>542</td>\n",
       "    </tr>\n",
       "    <tr>\n",
       "      <th>...</th>\n",
       "      <td>...</td>\n",
       "      <td>...</td>\n",
       "      <td>...</td>\n",
       "      <td>...</td>\n",
       "      <td>...</td>\n",
       "      <td>...</td>\n",
       "      <td>...</td>\n",
       "    </tr>\n",
       "    <tr>\n",
       "      <th>74163</th>\n",
       "      <td>13</td>\n",
       "      <td>279.0</td>\n",
       "      <td>10729.0</td>\n",
       "      <td>10</td>\n",
       "      <td>2590</td>\n",
       "      <td>628</td>\n",
       "      <td>562</td>\n",
       "    </tr>\n",
       "    <tr>\n",
       "      <th>74164</th>\n",
       "      <td>9</td>\n",
       "      <td>279.0</td>\n",
       "      <td>304.0</td>\n",
       "      <td>10</td>\n",
       "      <td>2700</td>\n",
       "      <td>628</td>\n",
       "      <td>562</td>\n",
       "    </tr>\n",
       "    <tr>\n",
       "      <th>74165</th>\n",
       "      <td>8371</td>\n",
       "      <td>10642.0</td>\n",
       "      <td>304.0</td>\n",
       "      <td>10</td>\n",
       "      <td>3000</td>\n",
       "      <td>628</td>\n",
       "      <td>562</td>\n",
       "    </tr>\n",
       "    <tr>\n",
       "      <th>74166</th>\n",
       "      <td>13</td>\n",
       "      <td>279.0</td>\n",
       "      <td>304.0</td>\n",
       "      <td>10</td>\n",
       "      <td>2880</td>\n",
       "      <td>628</td>\n",
       "      <td>562</td>\n",
       "    </tr>\n",
       "    <tr>\n",
       "      <th>74167</th>\n",
       "      <td>8371</td>\n",
       "      <td>10642.0</td>\n",
       "      <td>10729.0</td>\n",
       "      <td>10</td>\n",
       "      <td>2000</td>\n",
       "      <td>628</td>\n",
       "      <td>562</td>\n",
       "    </tr>\n",
       "  </tbody>\n",
       "</table>\n",
       "<p>74168 rows × 7 columns</p>\n",
       "</div>\n",
       "      <button class=\"colab-df-convert\" onclick=\"convertToInteractive('df-8f56f3ad-e1d0-4479-8505-566634f8cbcb')\"\n",
       "              title=\"Convert this dataframe to an interactive table.\"\n",
       "              style=\"display:none;\">\n",
       "        \n",
       "  <svg xmlns=\"http://www.w3.org/2000/svg\" height=\"24px\"viewBox=\"0 0 24 24\"\n",
       "       width=\"24px\">\n",
       "    <path d=\"M0 0h24v24H0V0z\" fill=\"none\"/>\n",
       "    <path d=\"M18.56 5.44l.94 2.06.94-2.06 2.06-.94-2.06-.94-.94-2.06-.94 2.06-2.06.94zm-11 1L8.5 8.5l.94-2.06 2.06-.94-2.06-.94L8.5 2.5l-.94 2.06-2.06.94zm10 10l.94 2.06.94-2.06 2.06-.94-2.06-.94-.94-2.06-.94 2.06-2.06.94z\"/><path d=\"M17.41 7.96l-1.37-1.37c-.4-.4-.92-.59-1.43-.59-.52 0-1.04.2-1.43.59L10.3 9.45l-7.72 7.72c-.78.78-.78 2.05 0 2.83L4 21.41c.39.39.9.59 1.41.59.51 0 1.02-.2 1.41-.59l7.78-7.78 2.81-2.81c.8-.78.8-2.07 0-2.86zM5.41 20L4 18.59l7.72-7.72 1.47 1.35L5.41 20z\"/>\n",
       "  </svg>\n",
       "      </button>\n",
       "      \n",
       "  <style>\n",
       "    .colab-df-container {\n",
       "      display:flex;\n",
       "      flex-wrap:wrap;\n",
       "      gap: 12px;\n",
       "    }\n",
       "\n",
       "    .colab-df-convert {\n",
       "      background-color: #E8F0FE;\n",
       "      border: none;\n",
       "      border-radius: 50%;\n",
       "      cursor: pointer;\n",
       "      display: none;\n",
       "      fill: #1967D2;\n",
       "      height: 32px;\n",
       "      padding: 0 0 0 0;\n",
       "      width: 32px;\n",
       "    }\n",
       "\n",
       "    .colab-df-convert:hover {\n",
       "      background-color: #E2EBFA;\n",
       "      box-shadow: 0px 1px 2px rgba(60, 64, 67, 0.3), 0px 1px 3px 1px rgba(60, 64, 67, 0.15);\n",
       "      fill: #174EA6;\n",
       "    }\n",
       "\n",
       "    [theme=dark] .colab-df-convert {\n",
       "      background-color: #3B4455;\n",
       "      fill: #D2E3FC;\n",
       "    }\n",
       "\n",
       "    [theme=dark] .colab-df-convert:hover {\n",
       "      background-color: #434B5C;\n",
       "      box-shadow: 0px 1px 3px 1px rgba(0, 0, 0, 0.15);\n",
       "      filter: drop-shadow(0px 1px 2px rgba(0, 0, 0, 0.3));\n",
       "      fill: #FFFFFF;\n",
       "    }\n",
       "  </style>\n",
       "\n",
       "      <script>\n",
       "        const buttonEl =\n",
       "          document.querySelector('#df-8f56f3ad-e1d0-4479-8505-566634f8cbcb button.colab-df-convert');\n",
       "        buttonEl.style.display =\n",
       "          google.colab.kernel.accessAllowed ? 'block' : 'none';\n",
       "\n",
       "        async function convertToInteractive(key) {\n",
       "          const element = document.querySelector('#df-8f56f3ad-e1d0-4479-8505-566634f8cbcb');\n",
       "          const dataTable =\n",
       "            await google.colab.kernel.invokeFunction('convertToInteractive',\n",
       "                                                     [key], {});\n",
       "          if (!dataTable) return;\n",
       "\n",
       "          const docLinkHtml = 'Like what you see? Visit the ' +\n",
       "            '<a target=\"_blank\" href=https://colab.research.google.com/notebooks/data_table.ipynb>data table notebook</a>'\n",
       "            + ' to learn more about interactive tables.';\n",
       "          element.innerHTML = '';\n",
       "          dataTable['output_type'] = 'display_data';\n",
       "          await google.colab.output.renderOutput(dataTable, element);\n",
       "          const docLink = document.createElement('div');\n",
       "          docLink.innerHTML = docLinkHtml;\n",
       "          element.appendChild(docLink);\n",
       "        }\n",
       "      </script>\n",
       "    </div>\n",
       "  </div>\n",
       "  "
      ],
      "text/plain": [
       "       company  o_station  d_station  ... price_in_cents  o_city  d_city\n",
       "0         8385        0.0        0.0  ...           4550     611     542\n",
       "1            9       63.0     1044.0  ...           1450     611     542\n",
       "2         8377     5905.0     6495.0  ...           7400     611     542\n",
       "3         8377     5905.0     6495.0  ...          13500     611     542\n",
       "4         8381     5905.0     6495.0  ...           7710     611     542\n",
       "...        ...        ...        ...  ...            ...     ...     ...\n",
       "74163       13      279.0    10729.0  ...           2590     628     562\n",
       "74164        9      279.0      304.0  ...           2700     628     562\n",
       "74165     8371    10642.0      304.0  ...           3000     628     562\n",
       "74166       13      279.0      304.0  ...           2880     628     562\n",
       "74167     8371    10642.0    10729.0  ...           2000     628     562\n",
       "\n",
       "[74168 rows x 7 columns]"
      ]
     },
     "execution_count": 57,
     "metadata": {},
     "output_type": "execute_result"
    }
   ],
   "source": [
    "df_new"
   ]
  },
  {
   "cell_type": "code",
   "execution_count": 58,
   "metadata": {
    "id": "2CGuNutZFin5"
   },
   "outputs": [],
   "source": [
    "from sklearn.model_selection import train_test_split\n",
    " \n",
    "X = np.array(df_tickets.drop(['id','arrival_ts','search_ts','middle_stations','other_companies','price_in_cents'],1))"
   ]
  },
  {
   "cell_type": "code",
   "execution_count": 59,
   "metadata": {
    "id": "xKO0B5jaGUvY"
   },
   "outputs": [],
   "source": [
    "y = np.array(df_tickets['price_in_cents'])"
   ]
  },
  {
   "cell_type": "code",
   "execution_count": 60,
   "metadata": {
    "id": "IWGwwt52Gkbj"
   },
   "outputs": [],
   "source": [
    "x_train, x_test, y_train, y_test = train_test_split(X, y, test_size=0.1)"
   ]
  },
  {
   "cell_type": "code",
   "execution_count": 61,
   "metadata": {
    "colab": {
     "base_uri": "https://localhost:8080/"
    },
    "id": "-yLj0IeLGm9S",
    "outputId": "2e2e3e67-054a-4289-e62e-0b9cf7ad5772"
   },
   "outputs": [
    {
     "data": {
      "text/plain": [
       "SVR(C=1000.0, gamma=0.1)"
      ]
     },
     "execution_count": 61,
     "metadata": {},
     "output_type": "execute_result"
    }
   ],
   "source": [
    "# SVM Model\n",
    "from sklearn.svm import SVR\n",
    "svr = SVR(kernel='rbf', C=1e3, gamma=0.1)\n",
    "# Train the model \n",
    "svr.fit(x_train, y_train)"
   ]
  },
  {
   "cell_type": "code",
   "execution_count": 63,
   "metadata": {
    "colab": {
     "base_uri": "https://localhost:8080/"
    },
    "id": "Xd9SO8-qGpWq",
    "outputId": "6a8dd5b0-307a-4185-89de-d6bd57a1b883"
   },
   "outputs": [
    {
     "name": "stdout",
     "output_type": "stream",
     "text": [
      "svm confidence:  0.8162373991991332\n"
     ]
    }
   ],
   "source": [
    "from sklearn.model_selection import train_test_split\n",
    "from sklearn.svm import SVR\n",
    "svm_confidence = svr.score(x_test, y_test)\n",
    "print(\"svm confidence: \", svm_confidence)"
   ]
  },
  {
   "cell_type": "markdown",
   "metadata": {
    "id": "lMJeBW59MBXh"
   },
   "source": [
    "# Résultat du model SVM pas mal pour un model qui prends seulement 6 features en input."
   ]
  },
  {
   "cell_type": "code",
   "execution_count": null,
   "metadata": {},
   "outputs": [],
   "source": []
  }
 ],
 "metadata": {
  "accelerator": "TPU",
  "colab": {
   "collapsed_sections": [],
   "name": "Untitled8.ipynb",
   "provenance": []
  },
  "kernelspec": {
   "display_name": "Python 3",
   "language": "python",
   "name": "python3"
  },
  "language_info": {
   "codemirror_mode": {
    "name": "ipython",
    "version": 3
   },
   "file_extension": ".py",
   "mimetype": "text/x-python",
   "name": "python",
   "nbconvert_exporter": "python",
   "pygments_lexer": "ipython3",
   "version": "3.8.3"
  }
 },
 "nbformat": 4,
 "nbformat_minor": 1
}
